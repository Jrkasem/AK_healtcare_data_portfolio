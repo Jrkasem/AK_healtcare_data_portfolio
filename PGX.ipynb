{
 "cells": [
  {
   "cell_type": "code",
   "execution_count": 1,
   "metadata": {},
   "outputs": [
    {
     "name": "stdout",
     "output_type": "stream",
     "text": [
      "2.6.0\n"
     ]
    },
    {
     "name": "stderr",
     "output_type": "stream",
     "text": [
      "[nltk_data] Downloading package punkt to\n",
      "[nltk_data]     C:\\Users\\Dell\\AppData\\Roaming\\nltk_data...\n",
      "[nltk_data]   Package punkt is already up-to-date!\n",
      "[nltk_data] Downloading package averaged_perceptron_tagger to\n",
      "[nltk_data]     C:\\Users\\Dell\\AppData\\Roaming\\nltk_data...\n",
      "[nltk_data]   Package averaged_perceptron_tagger is already up-to-\n",
      "[nltk_data]       date!\n",
      "[nltk_data] Downloading package maxent_ne_chunker to\n",
      "[nltk_data]     C:\\Users\\Dell\\AppData\\Roaming\\nltk_data...\n",
      "[nltk_data]   Package maxent_ne_chunker is already up-to-date!\n",
      "[nltk_data] Downloading package words to\n",
      "[nltk_data]     C:\\Users\\Dell\\AppData\\Roaming\\nltk_data...\n",
      "[nltk_data]   Package words is already up-to-date!\n"
     ]
    },
    {
     "data": {
      "image/png": "[encoded data removed]",
      "text/plain": [
       "<Figure size 640x480 with 1 Axes>"
      ]
     },
     "metadata": {},
     "output_type": "display_data"
    }
   ],
   "source": [
    "import sqlite3\n",
    "from sqlite3 import Error\n",
    "\n",
    "def create_connection():\n",
    "    conn = None;\n",
    "    try:\n",
    "        conn = sqlite3.connect(':memory:') # creating a temporary in-memory database\n",
    "        print(sqlite3.version)\n",
    "    except Error as e:\n",
    "        print(e)\n",
    "\n",
    "    if conn:\n",
    "        return conn\n",
    "\n",
    "def create_table(conn):\n",
    "    try:\n",
    "        sql_create_table_query = '''CREATE TABLE graph(\n",
    "                                id integer PRIMARY KEY,\n",
    "                                node text NOT NULL,\n",
    "                                edge text,\n",
    "                                weight real); '''\n",
    "        conn.execute(sql_create_table_query)\n",
    "    except Error as e:\n",
    "        print(e)\n",
    "\n",
    "def insert_node(conn, node):\n",
    "    try:\n",
    "        sql_insert_node_query = '''INSERT INTO graph(node, edge, weight)\n",
    "                          VALUES(?,?,?);'''\n",
    "        conn.execute(sql_insert_node_query, node)\n",
    "    except Error as e:\n",
    "        print(e)\n",
    "\n",
    "conn = create_connection()\n",
    "\n",
    "with conn:\n",
    "    create_table(conn)\n",
    "    node = ('Node1', 'Edge1', 1.0)\n",
    "    insert_node(conn, node)\n",
    "\n",
    "import nltk\n",
    "from nltk import pos_tag, ne_chunk\n",
    "nltk.download('punkt')\n",
    "nltk.download('averaged_perceptron_tagger')\n",
    "nltk.download('maxent_ne_chunker')\n",
    "nltk.download('words')\n",
    "from nltk.tokenize import word_tokenize\n",
    "import networkx as nx\n",
    "import matplotlib.pyplot as plt\n",
    "\n",
    "def get_continuous_chunks(text):\n",
    "    chunked = ne_chunk(pos_tag(word_tokenize(text)))\n",
    "    continuous_chunk = []\n",
    "    current_chunk = []\n",
    "\n",
    "    for subtree in chunked:\n",
    "        if type(subtree) == nltk.Tree:\n",
    "            current_chunk.append(\" \".join([token for token, pos in subtree.leaves()]))\n",
    "        elif current_chunk:\n",
    "            named_entity = \" \".join(current_chunk)\n",
    "            if named_entity not in continuous_chunk:\n",
    "                continuous_chunk.append(named_entity)\n",
    "                current_chunk = []\n",
    "        else:\n",
    "            continue\n",
    "\n",
    "    return continuous_chunk\n",
    "\n",
    "def draw_graph(text):\n",
    "    entities = get_continuous_chunks(text)\n",
    "    graph = nx.Graph()\n",
    "\n",
    "    for entity in entities:\n",
    "        graph.add_node(entity)\n",
    "\n",
    "    # for simplicity, let's connect each entity to the next one\n",
    "    for i in range(len(entities) - 1):\n",
    "        graph.add_edge(entities[i], entities[i + 1])\n",
    "\n",
    "    nx.draw(graph, with_labels=True)\n",
    "    plt.show()\n",
    "\n",
    "text = \"Barack Obama was born in Hawaii. He was elected president in 2008.\"\n",
    "draw_graph(text)\n"
   ]
  }
 ],
 "metadata": {
  "kernelspec": {
   "display_name": "base",
   "language": "python",
   "name": "python3"
  },
  "language_info": {
   "codemirror_mode": {
    "name": "ipython",
    "version": 3
   },
   "file_extension": ".py",
   "mimetype": "text/x-python",
   "name": "python",
   "nbconvert_exporter": "python",
   "pygments_lexer": "ipython3",
   "version": "3.9.13"
  },
  "orig_nbformat": 4
 },
 "nbformat": 4,
 "nbformat_minor": 2
}
